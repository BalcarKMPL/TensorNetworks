{
 "cells": [
  {
   "cell_type": "code",
   "execution_count": 53,
   "metadata": {
    "collapsed": true,
    "pycharm": {
     "name": "#%%\n"
    }
   },
   "outputs": [],
   "source": [
    "import numpy as np\n",
    "from matplotlib import pyplot as plt\n",
    "from matplotlib import pyplot as plt\n",
    "from scipy.optimize import curve_fit\n",
    "from numpy.linalg import svd\n",
    "from time import time\n",
    "from IPython.display import clear_output\n",
    "import Tools"
   ]
  },
  {
   "cell_type": "code",
   "execution_count": 54,
   "outputs": [],
   "source": [
    "from scipy.sparse.linalg import svds\n",
    "data2={}"
   ],
   "metadata": {
    "collapsed": false,
    "pycharm": {
     "name": "#%%\n"
    }
   }
  },
  {
   "cell_type": "code",
   "execution_count": 65,
   "outputs": [
    {
     "name": "stdout",
     "output_type": "stream",
     "text": [
      "DONE\n"
     ]
    }
   ],
   "source": [
    "D=6\n",
    "chi=2*D\n",
    "tnormal, tsparse = [], []\n",
    "\n",
    "for i in range(10):\n",
    "    print(i)\n",
    "    A = np.random.randn(chi*chi*D*D,chi*chi*D*D)\n",
    "    t0 = time()\n",
    "    u,s,vh = Tools.truncate3_sparse(A,k=chi)\n",
    "    tsparse.append(time() - t0)\n",
    "    print(tsparse[-1])\n",
    "    t0 = time()\n",
    "    u,s,vh = Tools.truncate3(A,k=chi)\n",
    "    tnormal.append(time() - t0)\n",
    "    print(tnormal[-1])\n",
    "data2[D] = [np.mean(tnormal),np.mean(tsparse)]\n",
    "print(i+1)\n",
    "clear_output(wait=True)\n",
    "print(\"DONE\")"
   ],
   "metadata": {
    "collapsed": false,
    "pycharm": {
     "name": "#%%\n"
    }
   }
  },
  {
   "cell_type": "code",
   "execution_count": 66,
   "outputs": [
    {
     "data": {
      "text/plain": "{1: [0.0002368927001953125, 0.001842641830444336],\n 2: [0.014800930023193359, 0.014548611640930176],\n 3: [0.13805139064788818, 0.061568379402160645],\n 4: [0.8446794748306274, 0.5284903049468994],\n 5: [13.001580286026002, 3.615183448791504],\n 6: [95.53647348880767, 13.957718348503112]}"
     },
     "execution_count": 66,
     "metadata": {},
     "output_type": "execute_result"
    }
   ],
   "source": [
    "data2"
   ],
   "metadata": {
    "collapsed": false,
    "pycharm": {
     "name": "#%%\n"
    }
   }
  },
  {
   "cell_type": "code",
   "execution_count": 67,
   "outputs": [],
   "source": [
    "Ds2, normals2, sparses2 = [], [], []\n",
    "for key in list(data2):\n",
    "    Ds2.append(key)\n",
    "    normals2.append(data2[key][0])\n",
    "    sparses2.append(data2[key][1])"
   ],
   "metadata": {
    "collapsed": false,
    "pycharm": {
     "name": "#%%\n"
    }
   }
  },
  {
   "cell_type": "code",
   "execution_count": 68,
   "outputs": [
    {
     "data": {
      "text/plain": "<Figure size 432x288 with 1 Axes>",
      "image/png": "[encoded data removed]"
     },
     "metadata": {
      "needs_background": "light"
     },
     "output_type": "display_data"
    }
   ],
   "source": [
    "plt.scatter(Ds2,normals2)\n",
    "plt.scatter(Ds2,sparses2)\n",
    "plt.yscale('log')\n",
    "plt.show()"
   ],
   "metadata": {
    "collapsed": false,
    "pycharm": {
     "name": "#%%\n"
    }
   }
  },
  {
   "cell_type": "code",
   "execution_count": 70,
   "outputs": [
    {
     "name": "stdout",
     "output_type": "stream",
     "text": [
      "D\n"
     ]
    }
   ],
   "source": [
    "for k in range(10,30):\n",
    "    A = np.random.randn(20,20)\n",
    "    u,s,vh = Tools.truncate3(A,k=k)\n",
    "    u,s,vh = Tools.truncate3_sparse(A,k=k)\n",
    "print(\"D\")"
   ],
   "metadata": {
    "collapsed": false,
    "pycharm": {
     "name": "#%%\n"
    }
   }
  },
  {
   "cell_type": "code",
   "execution_count": 8,
   "outputs": [],
   "source": [
    "def estimated_time(alpha, time):\n",
    "    if alpha == 0:\n",
    "        return \"ETA: inf\"\n",
    "    if alpha == 1:\n",
    "        return \"ETA: 0\"\n",
    "    eta = (1 - alpha) / alpha * time + 1\n",
    "    eta_h = int(eta / 3600)\n",
    "    eta_m = int(eta / 60) - eta_h * 60\n",
    "    eta_s = int(eta) - eta_h * 3600 - eta_m * 60\n",
    "    return \"ETA: {} h {} m {} s\".format(eta_h, eta_m, eta_s)"
   ],
   "metadata": {
    "collapsed": false,
    "pycharm": {
     "name": "#%%\n"
    }
   }
  },
  {
   "cell_type": "code",
   "execution_count": 10,
   "outputs": [
    {
     "name": "stdout",
     "output_type": "stream",
     "text": [
      "ETA: 0 h 0 m 1 s\n"
     ]
    }
   ],
   "source": [
    "print(estimated_time(1,20))"
   ],
   "metadata": {
    "collapsed": false,
    "pycharm": {
     "name": "#%%\n"
    }
   }
  },
  {
   "cell_type": "code",
   "execution_count": null,
   "outputs": [],
   "source": [],
   "metadata": {
    "collapsed": false,
    "pycharm": {
     "name": "#%%\n"
    }
   }
  }
 ],
 "metadata": {
  "kernelspec": {
   "display_name": "Python 3",
   "language": "python",
   "name": "python3"
  },
  "language_info": {
   "codemirror_mode": {
    "name": "ipython",
    "version": 2
   },
   "file_extension": ".py",
   "mimetype": "text/x-python",
   "name": "python",
   "nbconvert_exporter": "python",
   "pygments_lexer": "ipython2",
   "version": "2.7.6"
  }
 },
 "nbformat": 4,
 "nbformat_minor": 0
}